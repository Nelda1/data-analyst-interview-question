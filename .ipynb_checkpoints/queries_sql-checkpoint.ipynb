{
 "cells": [
  {
   "cell_type": "markdown",
   "metadata": {},
   "source": [
    "### TODO: import  this library to make connection to  postgres database"
   ]
  },
  {
   "cell_type": "code",
   "execution_count": 5,
   "metadata": {},
   "outputs": [
    {
     "name": "stdout",
     "output_type": "stream",
     "text": [
      "Collecting psycopg2-binary\n",
      "  Downloading psycopg2_binary-2.9.3-cp38-cp38-macosx_10_14_x86_64.macosx_10_9_intel.macosx_10_9_x86_64.macosx_10_10_intel.macosx_10_10_x86_64.whl (2.2 MB)\n",
      "\u001b[K     |████████████████████████████████| 2.2 MB 70 kB/s eta 0:00:013\n",
      "\u001b[?25hInstalling collected packages: psycopg2-binary\n",
      "Successfully installed psycopg2-binary-2.9.3\n"
     ]
    }
   ],
   "source": [
    "!pip install psycopg2-binary"
   ]
  },
  {
   "cell_type": "code",
   "execution_count": 6,
   "metadata": {},
   "outputs": [],
   "source": [
    "import psycopg2\n",
    "\n",
    "# run !pip install psycopg2 if your environment does not have this library"
   ]
  },
  {
   "cell_type": "markdown",
   "metadata": {},
   "source": [
    "### TODO: Create a connection to the `rocket spark` database, get a cursor, and set autocommit to true"
   ]
  },
  {
   "cell_type": "code",
   "execution_count": 208,
   "metadata": {},
   "outputs": [],
   "source": [
    "try: \n",
    "    conn = psycopg2.connect(\"host=54.175.254.25 dbname=rocket_spark user=data_analyst password=secret\")\n",
    "except psycopg2.Error as e: \n",
    "    print(\"Error: Could not make connection to the Postgres database\")\n",
    "    print(e)\n",
    "try: \n",
    "    cur = conn.cursor()\n",
    "except psycopg2.Error as e: \n",
    "    print(\"Error: Could not get cursor to the Database\")\n",
    "    print(e)\n",
    "conn.set_session(autocommit=True)"
   ]
  },
  {
   "cell_type": "markdown",
   "metadata": {},
   "source": [
    "### TODO : Run the cells below to confirm  if all tables exist and how many rows are available for each table"
   ]
  },
  {
   "cell_type": "code",
   "execution_count": 22,
   "metadata": {},
   "outputs": [
    {
     "name": "stdout",
     "output_type": "stream",
     "text": [
      "\n",
      "Table: songs\n",
      "\n",
      "(71,)\n"
     ]
    }
   ],
   "source": [
    "print(\"\\nTable: songs\\n\")\n",
    "try: \n",
    "    cur.execute(\"SELECT count(*) FROM songs;\")\n",
    "except psycopg2.Error as e: \n",
    "    print (e)\n",
    "\n",
    "row = cur.fetchone()\n",
    "while row:\n",
    "   print(row)\n",
    "   row = cur.fetchone()"
   ]
  },
  {
   "cell_type": "code",
   "execution_count": 23,
   "metadata": {
    "pycharm": {
     "name": "#%%\n"
    }
   },
   "outputs": [
    {
     "name": "stdout",
     "output_type": "stream",
     "text": [
      "\n",
      "Table: songsplays\n",
      "\n",
      "(1368,)\n"
     ]
    }
   ],
   "source": [
    "print(\"\\nTable: songsplays\\n\")\n",
    "try: \n",
    "    cur.execute(\"SELECT count(*) FROM songplays;\")\n",
    "except psycopg2.Error as e: \n",
    "    print(\"Error: select *\")\n",
    "    print (e)\n",
    "\n",
    "row = cur.fetchone()\n",
    "while row:\n",
    "   print(row)\n",
    "   row = cur.fetchone()"
   ]
  },
  {
   "cell_type": "code",
   "execution_count": 24,
   "metadata": {
    "pycharm": {
     "name": "#%%\n"
    }
   },
   "outputs": [
    {
     "name": "stdout",
     "output_type": "stream",
     "text": [
      "\n",
      ":Table artists\n",
      "\n",
      "(69,)\n"
     ]
    }
   ],
   "source": [
    "print(\"\\n:Table artists\\n\")\n",
    "try: \n",
    "    cur.execute(\"SELECT count(*) FROM artists;\")\n",
    "except psycopg2.Error as e: \n",
    "    print(\"Error: select *\")\n",
    "    print (e)\n",
    "\n",
    "row = cur.fetchone()\n",
    "while row:\n",
    "   print(row)\n",
    "   row = cur.fetchone()"
   ]
  },
  {
   "cell_type": "code",
   "execution_count": 25,
   "metadata": {
    "pycharm": {
     "name": "#%%\n"
    }
   },
   "outputs": [
    {
     "name": "stdout",
     "output_type": "stream",
     "text": [
      "\n",
      "Table: users\n",
      "\n",
      "(90,)\n"
     ]
    }
   ],
   "source": [
    "print(\"\\nTable: users\\n\")\n",
    "try: \n",
    "    cur.execute(\"SELECT count(*) FROM users;\")\n",
    "except psycopg2.Error as e: \n",
    "    print(\"Error: select *\")\n",
    "    print (e)\n",
    "\n",
    "row = cur.fetchone()\n",
    "while row:\n",
    "   print(row)\n",
    "   row = cur.fetchone()"
   ]
  },
  {
   "cell_type": "code",
   "execution_count": 26,
   "metadata": {
    "pycharm": {
     "name": "#%%\n"
    }
   },
   "outputs": [
    {
     "name": "stdout",
     "output_type": "stream",
     "text": [
      "\n",
      "Table: time\n",
      "\n"
     ]
    }
   ],
   "source": [
    "print(\"\\nTable: time\\n\")\n",
    "try: \n",
    "    cur.execute(\"SELECT count(*) FROM time;\")\n",
    "except psycopg2.Error as e: \n",
    "    print(\"Error: select *\")\n",
    "    print (e)"
   ]
  },
  {
   "cell_type": "code",
   "execution_count": 27,
   "metadata": {
    "pycharm": {
     "name": "#%%\n"
    }
   },
   "outputs": [
    {
     "name": "stdout",
     "output_type": "stream",
     "text": [
      "(4978,)\n"
     ]
    }
   ],
   "source": [
    "row = cur.fetchone()\n",
    "while row:\n",
    "   print(row)\n",
    "   row = cur.fetchone()    "
   ]
  },
  {
   "cell_type": "markdown",
   "metadata": {},
   "source": [
    "> #### Question 1: Find all `users` (first_name, last_name, gender and level) (song title) who have listened to the song  `Face the Ashes` in year 2018"
   ]
  },
  {
   "cell_type": "code",
   "execution_count": 230,
   "metadata": {},
   "outputs": [],
   "source": [
    "import pandas as pd"
   ]
  },
  {
   "cell_type": "code",
   "execution_count": 231,
   "metadata": {},
   "outputs": [
    {
     "data": {
      "text/html": [
       "<div>\n",
       "<style scoped>\n",
       "    .dataframe tbody tr th:only-of-type {\n",
       "        vertical-align: middle;\n",
       "    }\n",
       "\n",
       "    .dataframe tbody tr th {\n",
       "        vertical-align: top;\n",
       "    }\n",
       "\n",
       "    .dataframe thead th {\n",
       "        text-align: right;\n",
       "    }\n",
       "</style>\n",
       "<table border=\"1\" class=\"dataframe\">\n",
       "  <thead>\n",
       "    <tr style=\"text-align: right;\">\n",
       "      <th></th>\n",
       "      <th>first_name</th>\n",
       "      <th>last_name</th>\n",
       "      <th>gender</th>\n",
       "      <th>level</th>\n",
       "      <th>title</th>\n",
       "    </tr>\n",
       "  </thead>\n",
       "  <tbody>\n",
       "  </tbody>\n",
       "</table>\n",
       "</div>"
      ],
      "text/plain": [
       "Empty DataFrame\n",
       "Columns: [first_name, last_name, gender, level, title]\n",
       "Index: []"
      ]
     },
     "execution_count": 231,
     "metadata": {},
     "output_type": "execute_result"
    }
   ],
   "source": [
    "# sql statement\n",
    "users_2018 = \"select u.first_name, u.last_name, u.gender, u.level, s.title \\\n",
    "from users u \\\n",
    "inner join songplays sp \\\n",
    "on u.user_id = sp.user_id::integer \\\n",
    "inner join songs s \\\n",
    "on sp.song_id = s.song_id \\\n",
    "where s.title = 'Face the Ashes'and s.year = 2018;\" \n",
    "users_18 = pd.read_sql(users_2018,conn)\n",
    "users_18"
   ]
  },
  {
   "cell_type": "markdown",
   "metadata": {},
   "source": [
    "No user has listened to the song **Face the Ashes** in 2018, however without the condition 's.year = 2018', there are users that actually listened to the song"
   ]
  },
  {
   "cell_type": "markdown",
   "metadata": {},
   "source": [
    "> #### Question 2:  Provide  top 100 most played songs  `songplays` (song title , location, artist name, duration, (column count for how many times it was played )"
   ]
  },
  {
   "cell_type": "code",
   "execution_count": 232,
   "metadata": {},
   "outputs": [
    {
     "data": {
      "text/html": [
       "<div>\n",
       "<style scoped>\n",
       "    .dataframe tbody tr th:only-of-type {\n",
       "        vertical-align: middle;\n",
       "    }\n",
       "\n",
       "    .dataframe tbody tr th {\n",
       "        vertical-align: top;\n",
       "    }\n",
       "\n",
       "    .dataframe thead th {\n",
       "        text-align: right;\n",
       "    }\n",
       "</style>\n",
       "<table border=\"1\" class=\"dataframe\">\n",
       "  <thead>\n",
       "    <tr style=\"text-align: right;\">\n",
       "      <th></th>\n",
       "      <th>title</th>\n",
       "      <th>location</th>\n",
       "      <th>name</th>\n",
       "      <th>duration</th>\n",
       "      <th>total_count</th>\n",
       "      <th>song_count</th>\n",
       "    </tr>\n",
       "  </thead>\n",
       "  <tbody>\n",
       "    <tr>\n",
       "      <th>0</th>\n",
       "      <td>A Higher Place (Album Version)</td>\n",
       "      <td>Lansing-East Lansing, MI</td>\n",
       "      <td>Tom Petty</td>\n",
       "      <td>236.17261</td>\n",
       "      <td>7258</td>\n",
       "      <td>1</td>\n",
       "    </tr>\n",
       "    <tr>\n",
       "      <th>1</th>\n",
       "      <td>A Higher Place (Album Version)</td>\n",
       "      <td>Portland-South Portland, ME</td>\n",
       "      <td>Tom Petty</td>\n",
       "      <td>236.17261</td>\n",
       "      <td>2617</td>\n",
       "      <td>2</td>\n",
       "    </tr>\n",
       "    <tr>\n",
       "      <th>2</th>\n",
       "      <td>A Higher Place (Album Version)</td>\n",
       "      <td>New York-Newark-Jersey City, NY-NJ-PA</td>\n",
       "      <td>Tom Petty</td>\n",
       "      <td>236.17261</td>\n",
       "      <td>1788</td>\n",
       "      <td>3</td>\n",
       "    </tr>\n",
       "    <tr>\n",
       "      <th>3</th>\n",
       "      <td>A Higher Place (Album Version)</td>\n",
       "      <td>Chicago-Naperville-Elgin, IL-IN-WI</td>\n",
       "      <td>Tom Petty</td>\n",
       "      <td>236.17261</td>\n",
       "      <td>1782</td>\n",
       "      <td>4</td>\n",
       "    </tr>\n",
       "    <tr>\n",
       "      <th>4</th>\n",
       "      <td>A Higher Place (Album Version)</td>\n",
       "      <td>Lubbock, TX</td>\n",
       "      <td>Tom Petty</td>\n",
       "      <td>236.17261</td>\n",
       "      <td>1356</td>\n",
       "      <td>5</td>\n",
       "    </tr>\n",
       "    <tr>\n",
       "      <th>...</th>\n",
       "      <td>...</td>\n",
       "      <td>...</td>\n",
       "      <td>...</td>\n",
       "      <td>...</td>\n",
       "      <td>...</td>\n",
       "      <td>...</td>\n",
       "    </tr>\n",
       "    <tr>\n",
       "      <th>688</th>\n",
       "      <td>¿Dónde va Chichi?</td>\n",
       "      <td>Columbia, SC</td>\n",
       "      <td>Sierra Maestra</td>\n",
       "      <td>313.12934</td>\n",
       "      <td>303</td>\n",
       "      <td>9</td>\n",
       "    </tr>\n",
       "    <tr>\n",
       "      <th>689</th>\n",
       "      <td>¿Dónde va Chichi?</td>\n",
       "      <td>Chicago-Naperville-Elgin, IL-IN-WI</td>\n",
       "      <td>Sierra Maestra</td>\n",
       "      <td>313.12934</td>\n",
       "      <td>190</td>\n",
       "      <td>10</td>\n",
       "    </tr>\n",
       "    <tr>\n",
       "      <th>690</th>\n",
       "      <td>¿Dónde va Chichi?</td>\n",
       "      <td>Phoenix-Mesa-Scottsdale, AZ</td>\n",
       "      <td>Sierra Maestra</td>\n",
       "      <td>313.12934</td>\n",
       "      <td>172</td>\n",
       "      <td>11</td>\n",
       "    </tr>\n",
       "    <tr>\n",
       "      <th>691</th>\n",
       "      <td>¿Dónde va Chichi?</td>\n",
       "      <td>Cedar Rapids, IA</td>\n",
       "      <td>Sierra Maestra</td>\n",
       "      <td>313.12934</td>\n",
       "      <td>50</td>\n",
       "      <td>12</td>\n",
       "    </tr>\n",
       "    <tr>\n",
       "      <th>692</th>\n",
       "      <td>¿Dónde va Chichi?</td>\n",
       "      <td>San Francisco-Oakland-Hayward, CA</td>\n",
       "      <td>Sierra Maestra</td>\n",
       "      <td>313.12934</td>\n",
       "      <td>1</td>\n",
       "      <td>13</td>\n",
       "    </tr>\n",
       "  </tbody>\n",
       "</table>\n",
       "<p>693 rows × 6 columns</p>\n",
       "</div>"
      ],
      "text/plain": [
       "                              title                               location  \\\n",
       "0    A Higher Place (Album Version)               Lansing-East Lansing, MI   \n",
       "1    A Higher Place (Album Version)            Portland-South Portland, ME   \n",
       "2    A Higher Place (Album Version)  New York-Newark-Jersey City, NY-NJ-PA   \n",
       "3    A Higher Place (Album Version)     Chicago-Naperville-Elgin, IL-IN-WI   \n",
       "4    A Higher Place (Album Version)                            Lubbock, TX   \n",
       "..                              ...                                    ...   \n",
       "688               ¿Dónde va Chichi?                           Columbia, SC   \n",
       "689               ¿Dónde va Chichi?     Chicago-Naperville-Elgin, IL-IN-WI   \n",
       "690               ¿Dónde va Chichi?            Phoenix-Mesa-Scottsdale, AZ   \n",
       "691               ¿Dónde va Chichi?                       Cedar Rapids, IA   \n",
       "692               ¿Dónde va Chichi?      San Francisco-Oakland-Hayward, CA   \n",
       "\n",
       "               name   duration  total_count  song_count  \n",
       "0         Tom Petty  236.17261         7258           1  \n",
       "1         Tom Petty  236.17261         2617           2  \n",
       "2         Tom Petty  236.17261         1788           3  \n",
       "3         Tom Petty  236.17261         1782           4  \n",
       "4         Tom Petty  236.17261         1356           5  \n",
       "..              ...        ...          ...         ...  \n",
       "688  Sierra Maestra  313.12934          303           9  \n",
       "689  Sierra Maestra  313.12934          190          10  \n",
       "690  Sierra Maestra  313.12934          172          11  \n",
       "691  Sierra Maestra  313.12934           50          12  \n",
       "692  Sierra Maestra  313.12934            1          13  \n",
       "\n",
       "[693 rows x 6 columns]"
      ]
     },
     "execution_count": 232,
     "metadata": {},
     "output_type": "execute_result"
    }
   ],
   "source": [
    "most_played = \"select * \\\n",
    "from \\\n",
    "(select s.title, sp.location, a.name, s.duration,sum(sp.song_play_id) as total_count, row_number() over (partition by s.title order by sum(sp.song_play_id) desc) as song_count \\\n",
    "from songplays sp \\\n",
    "inner join songs s \\\n",
    "on sp.song_id = s.song_id \\\n",
    "inner join artists a \\\n",
    "on sp.artist_id = a.artist_id \\\n",
    "group by s.title, sp.location, a.name, s.duration \\\n",
    "HAVING sum(sp.song_play_id) > 0 \\\n",
    ") t \\\n",
    "where t.song_count <= 100;\"\n",
    "\n",
    "top_100 = pd.read_sql(most_played,conn)\n",
    "top_100"
   ]
  },
  {
   "cell_type": "markdown",
   "metadata": {},
   "source": [
    "> #### Question 3: By explorative data analysis find if there are gainful insights between `location` and `artists` and `song`  played"
   ]
  },
  {
   "cell_type": "code",
   "execution_count": 233,
   "metadata": {},
   "outputs": [
    {
     "data": {
      "text/html": [
       "<div>\n",
       "<style scoped>\n",
       "    .dataframe tbody tr th:only-of-type {\n",
       "        vertical-align: middle;\n",
       "    }\n",
       "\n",
       "    .dataframe tbody tr th {\n",
       "        vertical-align: top;\n",
       "    }\n",
       "\n",
       "    .dataframe thead th {\n",
       "        text-align: right;\n",
       "    }\n",
       "</style>\n",
       "<table border=\"1\" class=\"dataframe\">\n",
       "  <thead>\n",
       "    <tr style=\"text-align: right;\">\n",
       "      <th></th>\n",
       "      <th>title</th>\n",
       "      <th>location</th>\n",
       "      <th>name</th>\n",
       "      <th>level</th>\n",
       "      <th>song_count</th>\n",
       "    </tr>\n",
       "  </thead>\n",
       "  <tbody>\n",
       "    <tr>\n",
       "      <th>0</th>\n",
       "      <td>The Ballad Of Sleeping Beauty</td>\n",
       "      <td>Chicago-Naperville-Elgin, IL-IN-WI</td>\n",
       "      <td>Sophie B. Hawkins</td>\n",
       "      <td>paid</td>\n",
       "      <td>8886</td>\n",
       "    </tr>\n",
       "    <tr>\n",
       "      <th>1</th>\n",
       "      <td>Streets On Fire (Explicit Album Version)</td>\n",
       "      <td>Chicago-Naperville-Elgin, IL-IN-WI</td>\n",
       "      <td>Lupe Fiasco</td>\n",
       "      <td>paid</td>\n",
       "      <td>7337</td>\n",
       "    </tr>\n",
       "    <tr>\n",
       "      <th>2</th>\n",
       "      <td>A Higher Place (Album Version)</td>\n",
       "      <td>Lansing-East Lansing, MI</td>\n",
       "      <td>Tom Petty</td>\n",
       "      <td>paid</td>\n",
       "      <td>7258</td>\n",
       "    </tr>\n",
       "    <tr>\n",
       "      <th>3</th>\n",
       "      <td>Native Soul</td>\n",
       "      <td>Lansing-East Lansing, MI</td>\n",
       "      <td>Danilo Perez</td>\n",
       "      <td>paid</td>\n",
       "      <td>6962</td>\n",
       "    </tr>\n",
       "    <tr>\n",
       "      <th>4</th>\n",
       "      <td>Got My Mojo Workin</td>\n",
       "      <td>Chicago-Naperville-Elgin, IL-IN-WI</td>\n",
       "      <td>Pucho &amp; His Latin Soul Brothers</td>\n",
       "      <td>paid</td>\n",
       "      <td>6956</td>\n",
       "    </tr>\n",
       "    <tr>\n",
       "      <th>...</th>\n",
       "      <td>...</td>\n",
       "      <td>...</td>\n",
       "      <td>...</td>\n",
       "      <td>...</td>\n",
       "      <td>...</td>\n",
       "    </tr>\n",
       "    <tr>\n",
       "      <th>708</th>\n",
       "      <td>Soul Deep</td>\n",
       "      <td>Washington-Arlington-Alexandria, DC-VA-MD-WV</td>\n",
       "      <td>The Box Tops</td>\n",
       "      <td>free</td>\n",
       "      <td>11</td>\n",
       "    </tr>\n",
       "    <tr>\n",
       "      <th>709</th>\n",
       "      <td>It Wont Be Christmas</td>\n",
       "      <td>Phoenix-Mesa-Scottsdale, AZ</td>\n",
       "      <td>David Martin</td>\n",
       "      <td>free</td>\n",
       "      <td>6</td>\n",
       "    </tr>\n",
       "    <tr>\n",
       "      <th>710</th>\n",
       "      <td>City Slickers</td>\n",
       "      <td>Phoenix-Mesa-Scottsdale, AZ</td>\n",
       "      <td>Marc Shaiman</td>\n",
       "      <td>free</td>\n",
       "      <td>5</td>\n",
       "    </tr>\n",
       "    <tr>\n",
       "      <th>711</th>\n",
       "      <td>The Ballad Of Sleeping Beauty</td>\n",
       "      <td>Phoenix-Mesa-Scottsdale, AZ</td>\n",
       "      <td>Sophie B. Hawkins</td>\n",
       "      <td>free</td>\n",
       "      <td>4</td>\n",
       "    </tr>\n",
       "    <tr>\n",
       "      <th>712</th>\n",
       "      <td>¿Dónde va Chichi?</td>\n",
       "      <td>San Francisco-Oakland-Hayward, CA</td>\n",
       "      <td>Sierra Maestra</td>\n",
       "      <td>free</td>\n",
       "      <td>1</td>\n",
       "    </tr>\n",
       "  </tbody>\n",
       "</table>\n",
       "<p>713 rows × 5 columns</p>\n",
       "</div>"
      ],
      "text/plain": [
       "                                        title  \\\n",
       "0               The Ballad Of Sleeping Beauty   \n",
       "1    Streets On Fire (Explicit Album Version)   \n",
       "2              A Higher Place (Album Version)   \n",
       "3                                 Native Soul   \n",
       "4                          Got My Mojo Workin   \n",
       "..                                        ...   \n",
       "708                                 Soul Deep   \n",
       "709                      It Wont Be Christmas   \n",
       "710                             City Slickers   \n",
       "711             The Ballad Of Sleeping Beauty   \n",
       "712                         ¿Dónde va Chichi?   \n",
       "\n",
       "                                         location  \\\n",
       "0              Chicago-Naperville-Elgin, IL-IN-WI   \n",
       "1              Chicago-Naperville-Elgin, IL-IN-WI   \n",
       "2                        Lansing-East Lansing, MI   \n",
       "3                        Lansing-East Lansing, MI   \n",
       "4              Chicago-Naperville-Elgin, IL-IN-WI   \n",
       "..                                            ...   \n",
       "708  Washington-Arlington-Alexandria, DC-VA-MD-WV   \n",
       "709                   Phoenix-Mesa-Scottsdale, AZ   \n",
       "710                   Phoenix-Mesa-Scottsdale, AZ   \n",
       "711                   Phoenix-Mesa-Scottsdale, AZ   \n",
       "712             San Francisco-Oakland-Hayward, CA   \n",
       "\n",
       "                                name level  song_count  \n",
       "0                  Sophie B. Hawkins  paid        8886  \n",
       "1                        Lupe Fiasco  paid        7337  \n",
       "2                          Tom Petty  paid        7258  \n",
       "3                       Danilo Perez  paid        6962  \n",
       "4    Pucho & His Latin Soul Brothers  paid        6956  \n",
       "..                               ...   ...         ...  \n",
       "708                     The Box Tops  free          11  \n",
       "709                     David Martin  free           6  \n",
       "710                     Marc Shaiman  free           5  \n",
       "711                Sophie B. Hawkins  free           4  \n",
       "712                   Sierra Maestra  free           1  \n",
       "\n",
       "[713 rows x 5 columns]"
      ]
     },
     "execution_count": 233,
     "metadata": {},
     "output_type": "execute_result"
    }
   ],
   "source": [
    "df = \"select distinct(s.title), sp.location, a.name, sp.level, sum(sp.song_play_id) as song_count \\\n",
    "from songplays sp \\\n",
    "inner join songs s \\\n",
    "on sp.song_id = s.song_id \\\n",
    "inner join artists a \\\n",
    "on sp.artist_id = a.artist_id \\\n",
    "group by s.title, sp.location, a.name, sp.level \\\n",
    "order by song_count desc;\" \n",
    "\n",
    "df1 = pd.read_sql(df,conn)\n",
    "df1"
   ]
  },
  {
   "cell_type": "code",
   "execution_count": 234,
   "metadata": {},
   "outputs": [
    {
     "data": {
      "text/html": [
       "<div>\n",
       "<style scoped>\n",
       "    .dataframe tbody tr th:only-of-type {\n",
       "        vertical-align: middle;\n",
       "    }\n",
       "\n",
       "    .dataframe tbody tr th {\n",
       "        vertical-align: top;\n",
       "    }\n",
       "\n",
       "    .dataframe thead th {\n",
       "        text-align: right;\n",
       "    }\n",
       "</style>\n",
       "<table border=\"1\" class=\"dataframe\">\n",
       "  <thead>\n",
       "    <tr style=\"text-align: right;\">\n",
       "      <th></th>\n",
       "      <th>song_count</th>\n",
       "    </tr>\n",
       "  </thead>\n",
       "  <tbody>\n",
       "    <tr>\n",
       "      <th>count</th>\n",
       "      <td>713.000000</td>\n",
       "    </tr>\n",
       "    <tr>\n",
       "      <th>mean</th>\n",
       "      <td>1229.364656</td>\n",
       "    </tr>\n",
       "    <tr>\n",
       "      <th>std</th>\n",
       "      <td>1270.999005</td>\n",
       "    </tr>\n",
       "    <tr>\n",
       "      <th>min</th>\n",
       "      <td>1.000000</td>\n",
       "    </tr>\n",
       "    <tr>\n",
       "      <th>25%</th>\n",
       "      <td>512.000000</td>\n",
       "    </tr>\n",
       "    <tr>\n",
       "      <th>50%</th>\n",
       "      <td>918.000000</td>\n",
       "    </tr>\n",
       "    <tr>\n",
       "      <th>75%</th>\n",
       "      <td>1344.000000</td>\n",
       "    </tr>\n",
       "    <tr>\n",
       "      <th>max</th>\n",
       "      <td>8886.000000</td>\n",
       "    </tr>\n",
       "  </tbody>\n",
       "</table>\n",
       "</div>"
      ],
      "text/plain": [
       "        song_count\n",
       "count   713.000000\n",
       "mean   1229.364656\n",
       "std    1270.999005\n",
       "min       1.000000\n",
       "25%     512.000000\n",
       "50%     918.000000\n",
       "75%    1344.000000\n",
       "max    8886.000000"
      ]
     },
     "execution_count": 234,
     "metadata": {},
     "output_type": "execute_result"
    }
   ],
   "source": [
    "df1.describe()"
   ]
  },
  {
   "cell_type": "markdown",
   "metadata": {},
   "source": [
    "The average song count in the dataset is 1264 with the highest song count being 8886 by Sophie B. Hawkins in Chicago-Naperville-Elgin, IL-IN-WI"
   ]
  },
  {
   "cell_type": "code",
   "execution_count": 235,
   "metadata": {
    "scrolled": true
   },
   "outputs": [
    {
     "data": {
      "text/plain": [
       "Soul Mekanik          18\n",
       "Sophie B. Hawkins     18\n",
       "Line Renaud           18\n",
       "Wilks                 18\n",
       "Tom Petty             16\n",
       "Jinx                  16\n",
       "King Curtis           16\n",
       "Luna Orbit Project    16\n",
       "Christos Dantis       15\n",
       "Danilo Perez          15\n",
       "Name: name, dtype: int64"
      ]
     },
     "execution_count": 235,
     "metadata": {},
     "output_type": "execute_result"
    }
   ],
   "source": [
    "#top 10 artists\n",
    "df1.name.value_counts()[:10]"
   ]
  },
  {
   "cell_type": "markdown",
   "metadata": {},
   "source": [
    "Line Renaud and Wilks have the most songs"
   ]
  },
  {
   "cell_type": "code",
   "execution_count": 236,
   "metadata": {},
   "outputs": [
    {
     "data": {
      "text/plain": [
       "Get Your Head Stuck On Your Neck                 18\n",
       "The Ballad Of Sleeping Beauty                    18\n",
       "Music is what we love                            18\n",
       "Der Kleine Dompfaff                              18\n",
       "Midnight Star                                    16\n",
       "A Whiter Shade Of Pale (Live @ Fillmore West)    16\n",
       "Kutt Free (DJ Volume Remix)                      16\n",
       "A Higher Place (Album Version)                   16\n",
       "Got My Mojo Workin                               15\n",
       "Ten Tonne                                        15\n",
       "Name: title, dtype: int64"
      ]
     },
     "execution_count": 236,
     "metadata": {},
     "output_type": "execute_result"
    }
   ],
   "source": [
    "#top 10 songs\n",
    "df1.title.value_counts()[:10]"
   ]
  },
  {
   "cell_type": "markdown",
   "metadata": {},
   "source": [
    "The most listened to songs are Der Kleine Dompfaff​ and Music is what we love "
   ]
  },
  {
   "cell_type": "code",
   "execution_count": 237,
   "metadata": {},
   "outputs": [
    {
     "data": {
      "text/plain": [
       "Chicago-Naperville-Elgin, IL-IN-WI       66\n",
       "Waterloo-Cedar Falls, IA                 57\n",
       "Winston-Salem, NC                        48\n",
       "New York-Newark-Jersey City, NY-NJ-PA    47\n",
       "Lansing-East Lansing, MI                 47\n",
       "Portland-South Portland, ME              43\n",
       "Tampa-St. Petersburg-Clearwater, FL      38\n",
       "Marinette, WI-MI                         31\n",
       "San Jose-Sunnyvale-Santa Clara, CA       29\n",
       "Phoenix-Mesa-Scottsdale, AZ              24\n",
       "Name: location, dtype: int64"
      ]
     },
     "execution_count": 237,
     "metadata": {},
     "output_type": "execute_result"
    }
   ],
   "source": [
    "#top 10 locations\n",
    "df1.location.value_counts()[:10]"
   ]
  },
  {
   "cell_type": "markdown",
   "metadata": {},
   "source": [
    "> #### Question 4: Using the `song_plays` table, write an SQL query to find the record which is the fourth most listened song."
   ]
  },
  {
   "cell_type": "code",
   "execution_count": 238,
   "metadata": {},
   "outputs": [
    {
     "data": {
      "text/html": [
       "<div>\n",
       "<style scoped>\n",
       "    .dataframe tbody tr th:only-of-type {\n",
       "        vertical-align: middle;\n",
       "    }\n",
       "\n",
       "    .dataframe tbody tr th {\n",
       "        vertical-align: top;\n",
       "    }\n",
       "\n",
       "    .dataframe thead th {\n",
       "        text-align: right;\n",
       "    }\n",
       "</style>\n",
       "<table border=\"1\" class=\"dataframe\">\n",
       "  <thead>\n",
       "    <tr style=\"text-align: right;\">\n",
       "      <th></th>\n",
       "      <th>song_id</th>\n",
       "      <th>song_rank</th>\n",
       "    </tr>\n",
       "  </thead>\n",
       "  <tbody>\n",
       "    <tr>\n",
       "      <th>0</th>\n",
       "      <td>SOAOIBZ12AB01815BE</td>\n",
       "      <td>1</td>\n",
       "    </tr>\n",
       "    <tr>\n",
       "      <th>1</th>\n",
       "      <td>SOAOIBZ12AB01815BE</td>\n",
       "      <td>2</td>\n",
       "    </tr>\n",
       "    <tr>\n",
       "      <th>2</th>\n",
       "      <td>SOAOIBZ12AB01815BE</td>\n",
       "      <td>3</td>\n",
       "    </tr>\n",
       "    <tr>\n",
       "      <th>3</th>\n",
       "      <td>SOAOIBZ12AB01815BE</td>\n",
       "      <td>4</td>\n",
       "    </tr>\n",
       "    <tr>\n",
       "      <th>4</th>\n",
       "      <td>SOAOIBZ12AB01815BE</td>\n",
       "      <td>5</td>\n",
       "    </tr>\n",
       "    <tr>\n",
       "      <th>...</th>\n",
       "      <td>...</td>\n",
       "      <td>...</td>\n",
       "    </tr>\n",
       "    <tr>\n",
       "      <th>1363</th>\n",
       "      <td>None</td>\n",
       "      <td>136</td>\n",
       "    </tr>\n",
       "    <tr>\n",
       "      <th>1364</th>\n",
       "      <td>None</td>\n",
       "      <td>137</td>\n",
       "    </tr>\n",
       "    <tr>\n",
       "      <th>1365</th>\n",
       "      <td>None</td>\n",
       "      <td>138</td>\n",
       "    </tr>\n",
       "    <tr>\n",
       "      <th>1366</th>\n",
       "      <td>None</td>\n",
       "      <td>139</td>\n",
       "    </tr>\n",
       "    <tr>\n",
       "      <th>1367</th>\n",
       "      <td>None</td>\n",
       "      <td>140</td>\n",
       "    </tr>\n",
       "  </tbody>\n",
       "</table>\n",
       "<p>1368 rows × 2 columns</p>\n",
       "</div>"
      ],
      "text/plain": [
       "                 song_id  song_rank\n",
       "0     SOAOIBZ12AB01815BE          1\n",
       "1     SOAOIBZ12AB01815BE          2\n",
       "2     SOAOIBZ12AB01815BE          3\n",
       "3     SOAOIBZ12AB01815BE          4\n",
       "4     SOAOIBZ12AB01815BE          5\n",
       "...                  ...        ...\n",
       "1363                None        136\n",
       "1364                None        137\n",
       "1365                None        138\n",
       "1366                None        139\n",
       "1367                None        140\n",
       "\n",
       "[1368 rows x 2 columns]"
      ]
     },
     "execution_count": 238,
     "metadata": {},
     "output_type": "execute_result"
    }
   ],
   "source": [
    "most_listened = \"select song_id, \\\n",
    "DENSE_RANK() OVER (partition by song_id order by song_play_id desc) as song_rank \\\n",
    "from songplays;\" \n",
    "\n",
    "fourth_most = pd.read_sql(most_listened,conn)\n",
    "fourth_most\n"
   ]
  },
  {
   "cell_type": "markdown",
   "metadata": {},
   "source": [
    "> #### Question 5: Based on your analysis derive to what extent is there correlation between `songplays` and `users`level(free , paid )"
   ]
  },
  {
   "cell_type": "code",
   "execution_count": 242,
   "metadata": {
    "scrolled": true
   },
   "outputs": [
    {
     "data": {
      "text/html": [
       "<div>\n",
       "<style scoped>\n",
       "    .dataframe tbody tr th:only-of-type {\n",
       "        vertical-align: middle;\n",
       "    }\n",
       "\n",
       "    .dataframe tbody tr th {\n",
       "        vertical-align: top;\n",
       "    }\n",
       "\n",
       "    .dataframe thead th {\n",
       "        text-align: right;\n",
       "    }\n",
       "</style>\n",
       "<table border=\"1\" class=\"dataframe\">\n",
       "  <thead>\n",
       "    <tr style=\"text-align: right;\">\n",
       "      <th></th>\n",
       "      <th>song_count</th>\n",
       "    </tr>\n",
       "    <tr>\n",
       "      <th>level</th>\n",
       "      <th></th>\n",
       "    </tr>\n",
       "  </thead>\n",
       "  <tbody>\n",
       "    <tr>\n",
       "      <th>free</th>\n",
       "      <td>706.400000</td>\n",
       "    </tr>\n",
       "    <tr>\n",
       "      <th>paid</th>\n",
       "      <td>1643.268844</td>\n",
       "    </tr>\n",
       "  </tbody>\n",
       "</table>\n",
       "</div>"
      ],
      "text/plain": [
       "        song_count\n",
       "level             \n",
       "free    706.400000\n",
       "paid   1643.268844"
      ]
     },
     "execution_count": 242,
     "metadata": {},
     "output_type": "execute_result"
    }
   ],
   "source": [
    "df1[['level','song_count']].groupby('level').mean()\n"
   ]
  },
  {
   "cell_type": "code",
   "execution_count": 240,
   "metadata": {
    "scrolled": true
   },
   "outputs": [
    {
     "data": {
      "text/html": [
       "<div>\n",
       "<style scoped>\n",
       "    .dataframe tbody tr th:only-of-type {\n",
       "        vertical-align: middle;\n",
       "    }\n",
       "\n",
       "    .dataframe tbody tr th {\n",
       "        vertical-align: top;\n",
       "    }\n",
       "\n",
       "    .dataframe thead th {\n",
       "        text-align: right;\n",
       "    }\n",
       "</style>\n",
       "<table border=\"1\" class=\"dataframe\">\n",
       "  <thead>\n",
       "    <tr style=\"text-align: right;\">\n",
       "      <th></th>\n",
       "      <th>title</th>\n",
       "      <th>location</th>\n",
       "      <th>name</th>\n",
       "      <th>level</th>\n",
       "      <th>song_count</th>\n",
       "    </tr>\n",
       "  </thead>\n",
       "  <tbody>\n",
       "    <tr>\n",
       "      <th>0</th>\n",
       "      <td>The Ballad Of Sleeping Beauty</td>\n",
       "      <td>Chicago-Naperville-Elgin, IL-IN-WI</td>\n",
       "      <td>Sophie B. Hawkins</td>\n",
       "      <td>paid</td>\n",
       "      <td>8886</td>\n",
       "    </tr>\n",
       "    <tr>\n",
       "      <th>1</th>\n",
       "      <td>Streets On Fire (Explicit Album Version)</td>\n",
       "      <td>Chicago-Naperville-Elgin, IL-IN-WI</td>\n",
       "      <td>Lupe Fiasco</td>\n",
       "      <td>paid</td>\n",
       "      <td>7337</td>\n",
       "    </tr>\n",
       "    <tr>\n",
       "      <th>2</th>\n",
       "      <td>A Higher Place (Album Version)</td>\n",
       "      <td>Lansing-East Lansing, MI</td>\n",
       "      <td>Tom Petty</td>\n",
       "      <td>paid</td>\n",
       "      <td>7258</td>\n",
       "    </tr>\n",
       "    <tr>\n",
       "      <th>3</th>\n",
       "      <td>Native Soul</td>\n",
       "      <td>Lansing-East Lansing, MI</td>\n",
       "      <td>Danilo Perez</td>\n",
       "      <td>paid</td>\n",
       "      <td>6962</td>\n",
       "    </tr>\n",
       "    <tr>\n",
       "      <th>4</th>\n",
       "      <td>Got My Mojo Workin</td>\n",
       "      <td>Chicago-Naperville-Elgin, IL-IN-WI</td>\n",
       "      <td>Pucho &amp; His Latin Soul Brothers</td>\n",
       "      <td>paid</td>\n",
       "      <td>6956</td>\n",
       "    </tr>\n",
       "  </tbody>\n",
       "</table>\n",
       "</div>"
      ],
      "text/plain": [
       "                                      title  \\\n",
       "0             The Ballad Of Sleeping Beauty   \n",
       "1  Streets On Fire (Explicit Album Version)   \n",
       "2            A Higher Place (Album Version)   \n",
       "3                               Native Soul   \n",
       "4                        Got My Mojo Workin   \n",
       "\n",
       "                             location                             name level  \\\n",
       "0  Chicago-Naperville-Elgin, IL-IN-WI                Sophie B. Hawkins  paid   \n",
       "1  Chicago-Naperville-Elgin, IL-IN-WI                      Lupe Fiasco  paid   \n",
       "2            Lansing-East Lansing, MI                        Tom Petty  paid   \n",
       "3            Lansing-East Lansing, MI                     Danilo Perez  paid   \n",
       "4  Chicago-Naperville-Elgin, IL-IN-WI  Pucho & His Latin Soul Brothers  paid   \n",
       "\n",
       "   song_count  \n",
       "0        8886  \n",
       "1        7337  \n",
       "2        7258  \n",
       "3        6962  \n",
       "4        6956  "
      ]
     },
     "execution_count": 240,
     "metadata": {},
     "output_type": "execute_result"
    }
   ],
   "source": [
    "df1.head()"
   ]
  },
  {
   "cell_type": "code",
   "execution_count": 248,
   "metadata": {},
   "outputs": [
    {
     "data": {
      "text/plain": [
       "<AxesSubplot:ylabel='level-None'>"
      ]
     },
     "execution_count": 248,
     "metadata": {},
     "output_type": "execute_result"
    },
    {
     "data": {
      "image/png": "[encoded data removed]",
      "text/plain": [
       "<Figure size 864x576 with 2 Axes>"
      ]
     },
     "metadata": {
      "needs_background": "light"
     },
     "output_type": "display_data"
    }
   ],
   "source": [
    "corr = df1[['level', 'song_count']].groupby('level').corr()\n",
    "import matplotlib.pyplot as plt\n",
    "import seaborn as sns\n",
    "sns.set(style='darkgrid')\n",
    "%matplotlib inline\n",
    "plt.figure(figsize=(12,8))\n",
    "sns.heatmap(corr)"
   ]
  },
  {
   "cell_type": "markdown",
   "metadata": {},
   "source": [
    "### Close Connection \n"
   ]
  },
  {
   "cell_type": "code",
   "execution_count": null,
   "metadata": {},
   "outputs": [],
   "source": [
    "cur.close()\n",
    "conn.close()"
   ]
  }
 ],
 "metadata": {
  "kernelspec": {
   "display_name": "Python 3",
   "language": "python",
   "name": "python3"
  },
  "language_info": {
   "codemirror_mode": {
    "name": "ipython",
    "version": 3
   },
   "file_extension": ".py",
   "mimetype": "text/x-python",
   "name": "python",
   "nbconvert_exporter": "python",
   "pygments_lexer": "ipython3",
   "version": "3.8.8"
  }
 },
 "nbformat": 4,
 "nbformat_minor": 2
}
